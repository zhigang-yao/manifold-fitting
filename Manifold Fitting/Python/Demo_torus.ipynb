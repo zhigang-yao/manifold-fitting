{
 "cells": [
  {
   "cell_type": "code",
   "execution_count": 1,
   "id": "36970d82",
   "metadata": {},
   "outputs": [],
   "source": [
    "import numpy as np\n",
    "import math\n",
    "\n",
    "import matplotlib.pyplot as plt\n",
    "import matplotlib.pyplot as plt\n",
    "from mpl_toolkits.mplot3d import Axes3D\n",
    "\n",
    "from scipy.spatial.distance import pdist, squareform\n",
    "from sklearn.neighbors import NearestNeighbors\n",
    "from time import time"
   ]
  },
  {
   "cell_type": "code",
   "execution_count": 2,
   "id": "e168c1cd",
   "metadata": {},
   "outputs": [],
   "source": [
    "NumTrials = 1\n",
    "\n",
    "D = 3\n",
    "dim = 2\n",
    "tau = 1\n",
    "sigma = 0.06"
   ]
  },
  {
   "cell_type": "code",
   "execution_count": 3,
   "id": "0cadc71f",
   "metadata": {},
   "outputs": [],
   "source": [
    "def manfit_ours(sample, sig, sample_init, op_average=1):\n",
    "    Mout = np.copy(sample_init)\n",
    "    N = sample_init.shape[0]\n",
    "    N0 = sample.shape[0]\n",
    "    ns = np.arange(1, N0 + 1)\n",
    "\n",
    "    r = 5 * sig / np.log10(N0)\n",
    "    R = 10 * sig * np.sqrt(np.log(1 / sig)) / np.log10(N0)\n",
    "\n",
    "    for ii in range(N):\n",
    "      \n",
    "        x = sample_init[ii, :]\n",
    "\n",
    "        dists = squareform(pdist(np.vstack([x, sample])))[0, 1:]\n",
    "\n",
    "        IDX1 = dists < 2 * r\n",
    "        IDX1 = ns[IDX1]\n",
    "\n",
    "        nbrs = NearestNeighbors(n_neighbors=5).fit(sample)\n",
    "        IDX2 = nbrs.kneighbors(x.reshape(1, -1), return_distance=False).flatten()\n",
    "\n",
    "        IDX = np.union1d(IDX1, IDX2)\n",
    "\n",
    "        BNbr = sample[IDX - 1, :]\n",
    "\n",
    "        xbar = np.mean(BNbr, axis=0) + np.finfo(float).eps\n",
    "\n",
    "        dx = x - xbar\n",
    "        dx = dx / np.linalg.norm(dx)\n",
    "\n",
    "        Q = np.linalg.qr(np.column_stack([dx, np.eye(dx.size)]))[0]\n",
    "\n",
    "        sample_s = sample - x\n",
    "        sample_s = sample_s @ Q\n",
    "\n",
    "        CNbr = (np.abs(sample_s[:, 0]) < R) & (np.sum(sample_s[:, 1:] ** 2, axis=1) < r ** 2)\n",
    "\n",
    "        if np.sum(CNbr) > 10:\n",
    "            Mout[ii, :] = np.mean(sample[CNbr, :], axis=0)\n",
    "        else:\n",
    "            Mout[ii, :] = xbar\n",
    "\n",
    "    return Mout"
   ]
  },
  {
   "cell_type": "code",
   "execution_count": 4,
   "id": "20a37843",
   "metadata": {},
   "outputs": [],
   "source": [
    "def torusUnif(n, R, r):\n",
    "    # generate n samples uniformly from a torus\n",
    "    # R : the radius from the center of the hole to the center of the torus tube\n",
    "    # r : the radius of the torus tube. \n",
    "    #\n",
    "    # There is an R package with the same name\n",
    "    # Algorithm 1 of Diaconis P, Holmes S, and Shahshahani M (2013). \"Sampling from a manifold.\" \n",
    "    # Advances in Modern Statistical Theory and Applications: A Festschrift in honor of Morris L. Eaton. \n",
    "    # Institute of Mathematical Statistics, 102-125.\n",
    "    \n",
    "    count = 0\n",
    "    theta = -np.ones((1, n))\n",
    "    \n",
    "    while count < n:\n",
    "        xvec = np.random.rand(1)*2*math.pi\n",
    "        yvec = np.random.rand(1)/math.pi\n",
    "        fx = (1 + r/R*math.cos(xvec))/(2*math.pi)\n",
    "        if yvec < fx:\n",
    "            theta[:, count] = xvec\n",
    "            count = count + 1\n",
    "    \n",
    "    phi = np.random.rand(1, n)*2*math.pi\n",
    "    x = (R + r*np.cos(theta))*np.cos(phi)\n",
    "    y = (R + r*np.cos(theta))*np.sin(phi)\n",
    "    z = r*np.sin(theta)\n",
    "\n",
    "    X = np.vstack((x, y, z))\n",
    "    \n",
    "    return X"
   ]
  },
  {
   "cell_type": "code",
   "execution_count": 5,
   "id": "37e604fa",
   "metadata": {},
   "outputs": [],
   "source": [
    "def pdtorus(R, r, X):\n",
    "    \n",
    "    # return the projection p of x onto the torus:\n",
    "    #    {(a,b,c) | (R-sqrt(a^2+b^2))^2+c^2 = r^2}\n",
    "    # d = ||p-x||_2\n",
    "    #\n",
    "    # xiayq @ 8/14/2019\n",
    "    #\n",
    "    # xiayq@zju.edu.cn\n",
    "    # refered to Yao, Z and Xia, Y. (2019). Manifold Fitting under Unbounded Noise, arXiv:1909.10228\n",
    "    \n",
    "    temp1 = np.sqrt(X[0, :]**2 + X[1, :]**2)\n",
    "    temp2 = R/temp1\n",
    "    temp3 = (R - temp1)**2 + X[2, :]**2\n",
    "    w1 = r/np.sqrt(temp3)\n",
    "    w0 = temp2 + (1 - temp2)*w1\n",
    "    \n",
    "    P = X*np.vstack((w0, w0, w1))\n",
    "    \n",
    "    d = np.sqrt(sum((X - P)**2))\n",
    "    \n",
    "    return [P, d]\n"
   ]
  },
  {
   "cell_type": "code",
   "execution_count": 12,
   "id": "6b415f0f",
   "metadata": {},
   "outputs": [],
   "source": [
    "num_samples = 1000\n",
    "num_ini = 1000\n",
    "a = 2/3; b = 1/3; \n",
    "\n",
    "samples = torusUnif(num_samples, a, b)\n",
    "samples = samples + sigma*np.random.randn(D, num_samples)\n",
    "\n",
    "data_ini = torusUnif(2*num_ini, a, b)\n",
    "data_ini = data_ini + 2*sigma / np.sqrt(D)*(2*np.random.rand(D, 2 * num_ini) - 1)\n",
    "[proj_data_ini,d] = pdtorus(a, b,data_ini)\n",
    "\n",
    "norm_n2 = np.sum((data_ini - proj_data_ini) ** 2, axis=0)\n",
    "indices = np.argsort(norm_n2)[::-1]\n",
    "data_ini = data_ini[:, indices[:num_ini]]\n"
   ]
  },
  {
   "cell_type": "code",
   "execution_count": 13,
   "id": "09701a53",
   "metadata": {},
   "outputs": [],
   "source": [
    "tic = time()\n",
    "Mout = manfit_ours(samples.T, sigma, data_ini.T)\n",
    "Mout = Mout.T\n",
    "toc = time() - tic"
   ]
  },
  {
   "cell_type": "code",
   "execution_count": 14,
   "id": "fd566379",
   "metadata": {},
   "outputs": [
    {
     "data": {
      "text/plain": [
       "(-0.8972279252765644,\n",
       " 0.8632012834807773,\n",
       " -0.9291487907168446,\n",
       " 0.9606667254114519)"
      ]
     },
     "execution_count": 14,
     "metadata": {},
     "output_type": "execute_result"
    },
    {
     "data": {
      "image/png": "[encoded data removed]",
      "text/plain": [
       "<Figure size 500x500 with 1 Axes>"
      ]
     },
     "metadata": {},
     "output_type": "display_data"
    }
   ],
   "source": [
    "fig_width = 5  # Set the desired width in inches\n",
    "fig_height = 5  # Set the desired height in inches\n",
    "plt.figure(figsize=(fig_width, fig_height))\n",
    "plt.plot(Mout[0, :], Mout[1, :], 'r.')\n",
    "plt.box(False)\n",
    "plt.axis('off')"
   ]
  },
  {
   "cell_type": "code",
   "execution_count": null,
   "id": "f878b5d3",
   "metadata": {},
   "outputs": [],
   "source": []
  }
 ],
 "metadata": {
  "kernelspec": {
   "display_name": "Python 3 (ipykernel)",
   "language": "python",
   "name": "python3"
  },
  "language_info": {
   "codemirror_mode": {
    "name": "ipython",
    "version": 3
   },
   "file_extension": ".py",
   "mimetype": "text/x-python",
   "name": "python",
   "nbconvert_exporter": "python",
   "pygments_lexer": "ipython3",
   "version": "3.9.13"
  }
 },
 "nbformat": 4,
 "nbformat_minor": 5
}
