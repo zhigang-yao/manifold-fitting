{
 "cells": [
  {
   "cell_type": "code",
   "execution_count": 1,
   "id": "9b379974",
   "metadata": {},
   "outputs": [],
   "source": [
    "import numpy as np\n",
    "import matplotlib.pyplot as plt\n",
    "\n",
    "from scipy.spatial.distance import pdist, squareform\n",
    "from sklearn.neighbors import NearestNeighbors\n",
    "from time import time"
   ]
  },
  {
   "cell_type": "code",
   "execution_count": 2,
   "id": "2a0df271",
   "metadata": {},
   "outputs": [],
   "source": [
    "NumTrials = 1\n",
    "\n",
    "D = 2\n",
    "dim = 1\n",
    "tau = 1\n",
    "sigma = 0.06\n",
    "\n",
    "r = 2 * np.sqrt(tau * sigma)"
   ]
  },
  {
   "cell_type": "code",
   "execution_count": 3,
   "id": "742e99d1",
   "metadata": {},
   "outputs": [],
   "source": [
    "def manfit_ours(sample, sig, sample_init, op_average=1):\n",
    "    Mout = np.copy(sample_init)\n",
    "    N = sample_init.shape[0]\n",
    "    N0 = sample.shape[0]\n",
    "    ns = np.arange(1, N0 + 1)\n",
    "\n",
    "    r = 5 * sig / np.log10(N0)\n",
    "    R = 10 * sig * np.sqrt(np.log(1 / sig)) / np.log10(N0)\n",
    "\n",
    "    for ii in range(N):\n",
    "      \n",
    "        x = sample_init[ii, :]\n",
    "\n",
    "        dists = squareform(pdist(np.vstack([x, sample])))[0, 1:]\n",
    "\n",
    "        IDX1 = dists < 2 * r\n",
    "        IDX1 = ns[IDX1]\n",
    "\n",
    "        nbrs = NearestNeighbors(n_neighbors=5).fit(sample)\n",
    "        IDX2 = nbrs.kneighbors(x.reshape(1, -1), return_distance=False).flatten()\n",
    "\n",
    "        IDX = np.union1d(IDX1, IDX2)\n",
    "\n",
    "        BNbr = sample[IDX - 1, :]\n",
    "\n",
    "        xbar = np.mean(BNbr, axis=0) + np.finfo(float).eps\n",
    "\n",
    "        dx = x - xbar\n",
    "        dx = dx / np.linalg.norm(dx)\n",
    "\n",
    "        Q = np.linalg.qr(np.column_stack([dx, np.eye(dx.size)]))[0]\n",
    "\n",
    "        sample_s = sample - x\n",
    "        sample_s = sample_s @ Q\n",
    "\n",
    "        CNbr = (np.abs(sample_s[:, 0]) < R) & (np.sum(sample_s[:, 1:] ** 2, axis=1) < r ** 2)\n",
    "\n",
    "        if np.sum(CNbr) > 10:\n",
    "            Mout[ii, :] = np.mean(sample[CNbr, :], axis=0)\n",
    "        else:\n",
    "            Mout[ii, :] = xbar\n",
    "\n",
    "    return Mout"
   ]
  },
  {
   "cell_type": "code",
   "execution_count": 6,
   "id": "37805c7a",
   "metadata": {
    "scrolled": true
   },
   "outputs": [],
   "source": [
    "np.random.seed(1)\n",
    "\n",
    "NumSamples = 3000\n",
    "NumIni = 300\n",
    "\n",
    "t1 = np.random.rand(1, NumSamples) * 2 * np.pi\n",
    "samples = np.vstack((np.cos(t1), np.sin(t1))) + sigma * np.random.randn(2, NumSamples)\n",
    "\n",
    "t = np.random.rand(1, 2 * NumIni) * 2 * np.pi\n",
    "data_ini = np.vstack((np.cos(t), np.sin(t))) + 2 * sigma / np.sqrt(D) * (2 * np.random.rand(2, 2 * NumIni) - 1)\n",
    "proj_data_ini = data_ini * (tau / np.sqrt(np.sum(data_ini**2, axis=0)))\n",
    "norm_n2 = np.sum((data_ini - proj_data_ini)**2, axis=0)\n",
    "Index = np.argsort(norm_n2)[::-1]\n",
    "data_ini = data_ini[:, Index[:NumIni]]\n",
    "\n",
    "tic = time()\n",
    "Mout = manfit_ours(samples.T, sigma, data_ini.T)\n",
    "Mout = Mout.T\n",
    "toc = time() - tic\n",
    "\n",
    "proj_Mout = Mout * (tau / np.sqrt(np.sum(Mout**2, axis=0)))            "
   ]
  },
  {
   "cell_type": "code",
   "execution_count": 5,
   "id": "8e694702",
   "metadata": {},
   "outputs": [
    {
     "data": {
      "image/png": "[encoded data removed]",
      "text/plain": [
       "<Figure size 500x500 with 1 Axes>"
      ]
     },
     "metadata": {},
     "output_type": "display_data"
    }
   ],
   "source": [
    "fig_width = 5  # Set the desired width in inches\n",
    "fig_height = 5  # Set the desired height in inches\n",
    "plt.figure(figsize=(fig_width, fig_height))\n",
    "plt.plot(proj_Mout[0, :], proj_Mout[1, :], 'k.')\n",
    "plt.plot(Mout[0, :], Mout[1, :], 'r.')\n",
    "plt.xlim([-1.2, 1.2])\n",
    "plt.ylim([-1.2, 1.2])\n",
    "plt.box(False)\n",
    "plt.axis('off')\n",
    "plt.show()"
   ]
  },
  {
   "cell_type": "code",
   "execution_count": null,
   "id": "a8a63492",
   "metadata": {},
   "outputs": [],
   "source": []
  }
 ],
 "metadata": {
  "kernelspec": {
   "display_name": "Python 3 (ipykernel)",
   "language": "python",
   "name": "python3"
  },
  "language_info": {
   "codemirror_mode": {
    "name": "ipython",
    "version": 3
   },
   "file_extension": ".py",
   "mimetype": "text/x-python",
   "name": "python",
   "nbconvert_exporter": "python",
   "pygments_lexer": "ipython3",
   "version": "3.9.13"
  }
 },
 "nbformat": 4,
 "nbformat_minor": 5
}
